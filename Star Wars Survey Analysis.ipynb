{
 "cells": [
  {
   "cell_type": "markdown",
   "metadata": {},
   "source": [
    "# Star Wars Survey\n",
    "The following code investigates some interesting trends using data from a Star Wars survey. The GitHub repository for the data can be found [here](https://github.com/fivethirtyeight/data/tree/master/star-wars-survey)."
   ]
  },
  {
   "cell_type": "code",
   "execution_count": 1,
   "metadata": {},
   "outputs": [],
   "source": [
    "import pandas as pd\n",
    "star_wars = pd.read_csv('StarWars.txt', encoding='ansi')\n",
    "star_wars = star_wars[star_wars['RespondentID'].notnull()]"
   ]
  },
  {
   "cell_type": "markdown",
   "metadata": {},
   "source": [
    "# Data Cleaning\n",
    "## Answers to Boolean Values\n",
    "\"Yes\" and \"No\" answers should be mapped to the boolean values *True* and *False* because booleans will be easier to work with than strings."
   ]
  },
  {
   "cell_type": "code",
   "execution_count": 2,
   "metadata": {},
   "outputs": [],
   "source": [
    "str_to_bool = {\n",
    "    'Yes':True,\n",
    "    'No':False\n",
    "}\n",
    "\n",
    "star_wars[\n",
    "    'Have you seen any of the 6 films in the Star Wars franchise?'\n",
    "] = star_wars[\n",
    "    'Have you seen any of the 6 films in the Star Wars franchise?'\n",
    "].map(str_to_bool)\n",
    "\n",
    "star_wars[\n",
    "    'Do you consider yourself to be a fan of the Star Wars film franchise?'\n",
    "] = star_wars[\n",
    "    'Do you consider yourself to be a fan of the Star Wars film franchise?'\n",
    "].map(str_to_bool)"
   ]
  },
  {
   "cell_type": "code",
   "execution_count": 3,
   "metadata": {},
   "outputs": [
    {
     "name": "stdout",
     "output_type": "stream",
     "text": [
      "True     936\n",
      "False    250\n",
      "Name: Have you seen any of the 6 films in the Star Wars franchise?, dtype: int64\n",
      "\n",
      "True     552\n",
      "NaN      350\n",
      "False    284\n",
      "Name: Do you consider yourself to be a fan of the Star Wars film franchise?, dtype: int64\n"
     ]
    }
   ],
   "source": [
    "print(star_wars[\n",
    "    'Have you seen any of the 6 films in the Star Wars franchise?'\n",
    "].value_counts(dropna=False))\n",
    "\n",
    "print()\n",
    "\n",
    "print(star_wars[\n",
    "    'Do you consider yourself to be a fan of the Star Wars film franchise?'\n",
    "].value_counts(dropna=False))"
   ]
  },
  {
   "cell_type": "markdown",
   "metadata": {},
   "source": [
    "## Renaming Columns\n",
    "The code below renames columns describing which movies the survey respondents claim to have seen. \n",
    "\n",
    "\"seen_1\" corresponds to a respondent having seen *Star Wars: Episode I - The Phantom Menace*, \"seen_2\" corresponds to *Star Wars: Episode II - Attack of the Clones*, and so on."
   ]
  },
  {
   "cell_type": "code",
   "execution_count": 4,
   "metadata": {},
   "outputs": [
    {
     "name": "stdout",
     "output_type": "stream",
     "text": [
      "Index(['seen_1', 'seen_2', 'seen_3', 'seen_4', 'seen_5', 'seen_6'], dtype='object')\n"
     ]
    }
   ],
   "source": [
    "# create the list of new columns\n",
    "seen_cols = list()\n",
    "for i in range(3,9):\n",
    "    seen_cols.append('seen_' + str(i-2))\n",
    "\n",
    "# dict() and zip() can be used to avoid having to \n",
    "# type out all of the columns we want to rename\n",
    "star_wars.rename(columns=\n",
    "                 dict(zip(star_wars.columns[3:9],seen_cols))\n",
    "                 ,inplace=True)\n",
    "\n",
    "print(star_wars.columns[3:9])"
   ]
  },
  {
   "cell_type": "markdown",
   "metadata": {},
   "source": [
    "Now we just need to convert the responses to boolean values."
   ]
  },
  {
   "cell_type": "code",
   "execution_count": 5,
   "metadata": {
    "scrolled": true
   },
   "outputs": [
    {
     "name": "stdout",
     "output_type": "stream",
     "text": [
      "Star Wars: Episode I  The Phantom Menace    673\n",
      "NaN                                         513\n",
      "Name: seen_1, dtype: int64\n",
      "\n",
      "NaN                                            615\n",
      "Star Wars: Episode II  Attack of the Clones    571\n",
      "Name: seen_2, dtype: int64\n",
      "\n",
      "NaN                                            636\n",
      "Star Wars: Episode III  Revenge of the Sith    550\n",
      "Name: seen_3, dtype: int64\n",
      "\n",
      "Star Wars: Episode IV  A New Hope    607\n",
      "NaN                                  579\n",
      "Name: seen_4, dtype: int64\n",
      "\n",
      "Star Wars: Episode V The Empire Strikes Back    758\n",
      "NaN                                             428\n",
      "Name: seen_5, dtype: int64\n",
      "\n",
      "Star Wars: Episode VI Return of the Jedi    738\n",
      "NaN                                         448\n",
      "Name: seen_6, dtype: int64\n",
      "\n"
     ]
    }
   ],
   "source": [
    "for i in range(1,7):\n",
    "    print(star_wars['seen_' + str(i)].value_counts(dropna=False))\n",
    "    print()"
   ]
  },
  {
   "cell_type": "markdown",
   "metadata": {
    "collapsed": true
   },
   "source": [
    "All of the columns are either the name of the movie or NaN (if the respondent hasn't seen the movie). Converting the column strings to boolean values only requires a test for null-ness."
   ]
  },
  {
   "cell_type": "code",
   "execution_count": 6,
   "metadata": {},
   "outputs": [
    {
     "name": "stdout",
     "output_type": "stream",
     "text": [
      "True     673\n",
      "False    513\n",
      "Name: seen_1, dtype: int64\n",
      "\n",
      "False    615\n",
      "True     571\n",
      "Name: seen_2, dtype: int64\n",
      "\n",
      "False    636\n",
      "True     550\n",
      "Name: seen_3, dtype: int64\n",
      "\n",
      "True     607\n",
      "False    579\n",
      "Name: seen_4, dtype: int64\n",
      "\n",
      "True     758\n",
      "False    428\n",
      "Name: seen_5, dtype: int64\n",
      "\n",
      "True     738\n",
      "False    448\n",
      "Name: seen_6, dtype: int64\n",
      "\n"
     ]
    }
   ],
   "source": [
    "for i in range(1,7):\n",
    "    col_name = 'seen_' + str(i)\n",
    "    star_wars[col_name] = star_wars[col_name].notnull()\n",
    "    print(star_wars[col_name].value_counts(dropna=False))\n",
    "    print()"
   ]
  },
  {
   "cell_type": "markdown",
   "metadata": {},
   "source": [
    "## Cleaning Ranking Data\n",
    "The next columns to clean reflect the respondent's ranking of each movie, with lower rankings being better.\n",
    "\n",
    "The columns corresponding to each rating are similar to the ones we just cleaned (\"ranking_1\" refers to the same movie as \"seen_1\").\n",
    "\n",
    "The following code is redundant, but that's not a huge deal for this project."
   ]
  },
  {
   "cell_type": "code",
   "execution_count": 7,
   "metadata": {},
   "outputs": [
    {
     "name": "stdout",
     "output_type": "stream",
     "text": [
      "Index(['ranking_1', 'ranking_2', 'ranking_3', 'ranking_4', 'ranking_5',\n",
      "       'ranking_6'],\n",
      "      dtype='object')\n"
     ]
    }
   ],
   "source": [
    "# create the list of new columns\n",
    "ranking_cols = list()\n",
    "for i in range(9,15):\n",
    "    ranking_cols.append('ranking_' + str(i-8))\n",
    "\n",
    "star_wars.rename(columns=\n",
    "                 dict(zip(star_wars.columns[9:15],ranking_cols))\n",
    "                 ,inplace=True)\n",
    "\n",
    "print(star_wars.columns[9:15])"
   ]
  },
  {
   "cell_type": "code",
   "execution_count": 8,
   "metadata": {
    "scrolled": true
   },
   "outputs": [
    {
     "name": "stdout",
     "output_type": "stream",
     "text": [
      "NaN    351\n",
      "4      237\n",
      "6      168\n",
      "3      130\n",
      "1      129\n",
      "5      100\n",
      "2       71\n",
      "Name: ranking_1, dtype: int64\n",
      "object\n",
      "\n",
      "NaN    350\n",
      "5      300\n",
      "4      183\n",
      "2      116\n",
      "3      103\n",
      "6      102\n",
      "1       32\n",
      "Name: ranking_2, dtype: int64\n",
      "object\n",
      "\n",
      "NaN    351\n",
      "6      217\n",
      "5      203\n",
      "4      182\n",
      "3      150\n",
      "2       47\n",
      "1       36\n",
      "Name: ranking_3, dtype: int64\n",
      "object\n",
      "\n",
      "NaN    350\n",
      "1      204\n",
      "6      161\n",
      "2      135\n",
      "4      130\n",
      "3      127\n",
      "5       79\n",
      "Name: ranking_4, dtype: int64\n",
      "object\n",
      "\n",
      "NaN    350\n",
      "1      289\n",
      "2      235\n",
      "5      118\n",
      "3      106\n",
      "4       47\n",
      "6       41\n",
      "Name: ranking_5, dtype: int64\n",
      "object\n",
      "\n",
      "NaN    350\n",
      "2      232\n",
      "3      220\n",
      "1      146\n",
      "6      145\n",
      "4       57\n",
      "5       36\n",
      "Name: ranking_6, dtype: int64\n",
      "object\n",
      "\n"
     ]
    }
   ],
   "source": [
    "for i in range(1,7):\n",
    "    print(star_wars['ranking_' + str(i)].value_counts(dropna=False))\n",
    "    print(star_wars['ranking_1'].dtype)\n",
    "    print()"
   ]
  },
  {
   "cell_type": "markdown",
   "metadata": {},
   "source": [
    "The ranking columns only need a simple conversion to float types."
   ]
  },
  {
   "cell_type": "code",
   "execution_count": 9,
   "metadata": {},
   "outputs": [
    {
     "name": "stdout",
     "output_type": "stream",
     "text": [
      "float64\n",
      "float64\n",
      "float64\n",
      "float64\n",
      "float64\n",
      "float64\n"
     ]
    }
   ],
   "source": [
    "for i in range(1,7):\n",
    "    star_wars['ranking_' + str(i)] = star_wars['ranking_' + str(i)].astype(float)\n",
    "    print(star_wars['ranking_' + str(i)].dtype)"
   ]
  },
  {
   "cell_type": "markdown",
   "metadata": {},
   "source": [
    "# Analysis\n",
    "## Best Ranking\n",
    "With the cleaned data, we can find useful trends more quickly. Let's find the best-ranked movie overall."
   ]
  },
  {
   "cell_type": "code",
   "execution_count": 10,
   "metadata": {},
   "outputs": [
    {
     "data": {
      "text/plain": [
       "<matplotlib.axes._subplots.AxesSubplot at 0x19df5da8e10>"
      ]
     },
     "execution_count": 10,
     "metadata": {},
     "output_type": "execute_result"
    },
    {
     "data": {
      "image/png": "[encoded data removed]",
      "text/plain": [
       "<Figure size 432x288 with 1 Axes>"
      ]
     },
     "metadata": {},
     "output_type": "display_data"
    }
   ],
   "source": [
    "%matplotlib inline\n",
    "means = star_wars.mean()\n",
    "means['ranking_1':'ranking_6'].plot.bar()"
   ]
  },
  {
   "cell_type": "markdown",
   "metadata": {},
   "source": [
    "The best-ranked movie is from *Star Wars: Episode V - The Empire Strikes Back*, which is part of the original Star Wars trilogy.\n",
    "\n",
    "This isn't surprising because many fans of the series find the characters and bootlegged feel of the original movies more compelling than the newer ones."
   ]
  },
  {
   "cell_type": "markdown",
   "metadata": {},
   "source": [
    "## Most-Watched Movie\n",
    "Finding the most-watched movie only involves a sum operation on the dataframe's relevant boolean columns."
   ]
  },
  {
   "cell_type": "code",
   "execution_count": 11,
   "metadata": {},
   "outputs": [
    {
     "data": {
      "text/plain": [
       "<matplotlib.axes._subplots.AxesSubplot at 0x19df6367b70>"
      ]
     },
     "execution_count": 11,
     "metadata": {},
     "output_type": "execute_result"
    },
    {
     "data": {
      "image/png": "[encoded data removed]",
      "text/plain": [
       "<Figure size 432x288 with 1 Axes>"
      ]
     },
     "metadata": {},
     "output_type": "display_data"
    }
   ],
   "source": [
    "seen_counts = star_wars.sum()\n",
    "seen_counts['seen_1':'seen_6'].plot.bar()"
   ]
  },
  {
   "cell_type": "markdown",
   "metadata": {},
   "source": [
    "The most-watched movie is, not surprisingly, the highest-ranked movie: Episode V."
   ]
  },
  {
   "cell_type": "markdown",
   "metadata": {},
   "source": [
    "## Trends by Gender\n",
    "Let's find out how males and females differ in their preferences of Star Wars movies."
   ]
  },
  {
   "cell_type": "code",
   "execution_count": 12,
   "metadata": {},
   "outputs": [],
   "source": [
    "males = star_wars[star_wars['Gender'] == 'Male']\n",
    "females = star_wars[star_wars['Gender'] == 'Female']"
   ]
  },
  {
   "cell_type": "code",
   "execution_count": 13,
   "metadata": {},
   "outputs": [
    {
     "data": {
      "text/plain": [
       "<matplotlib.axes._subplots.AxesSubplot at 0x19df57f8be0>"
      ]
     },
     "execution_count": 13,
     "metadata": {},
     "output_type": "execute_result"
    },
    {
     "data": {
      "image/png": "[encoded data removed]",
      "text/plain": [
       "<Figure size 432x288 with 1 Axes>"
      ]
     },
     "metadata": {},
     "output_type": "display_data"
    }
   ],
   "source": [
    "mmeans = males.mean()\n",
    "mmeans['ranking_1':'ranking_6'].plot.bar()"
   ]
  },
  {
   "cell_type": "code",
   "execution_count": 14,
   "metadata": {},
   "outputs": [
    {
     "data": {
      "text/plain": [
       "<matplotlib.axes._subplots.AxesSubplot at 0x19df63f1470>"
      ]
     },
     "execution_count": 14,
     "metadata": {},
     "output_type": "execute_result"
    },
    {
     "data": {
      "image/png": "[encoded data removed]",
      "text/plain": [
       "<Figure size 432x288 with 1 Axes>"
      ]
     },
     "metadata": {},
     "output_type": "display_data"
    }
   ],
   "source": [
    "fmeans = females.mean()\n",
    "fmeans['ranking_1':'ranking_6'].plot.bar()"
   ]
  },
  {
   "cell_type": "markdown",
   "metadata": {},
   "source": [
    "The ranking trends are largely the same across genders. However, the differences in female rankings are more pronounced than the differences in male rankings."
   ]
  },
  {
   "cell_type": "code",
   "execution_count": 15,
   "metadata": {},
   "outputs": [
    {
     "data": {
      "text/plain": [
       "<matplotlib.axes._subplots.AxesSubplot at 0x19df64ded30>"
      ]
     },
     "execution_count": 15,
     "metadata": {},
     "output_type": "execute_result"
    },
    {
     "data": {
      "image/png": "[encoded data removed]",
      "text/plain": [
       "<Figure size 432x288 with 1 Axes>"
      ]
     },
     "metadata": {},
     "output_type": "display_data"
    }
   ],
   "source": [
    "mseen_counts = males.sum()\n",
    "mseen_counts['seen_1':'seen_6'].plot.bar()"
   ]
  },
  {
   "cell_type": "code",
   "execution_count": 16,
   "metadata": {},
   "outputs": [
    {
     "data": {
      "text/plain": [
       "<matplotlib.axes._subplots.AxesSubplot at 0x19df654c588>"
      ]
     },
     "execution_count": 16,
     "metadata": {},
     "output_type": "execute_result"
    },
    {
     "data": {
      "image/png": "[encoded data removed]",
      "text/plain": [
       "<Figure size 432x288 with 1 Axes>"
      ]
     },
     "metadata": {},
     "output_type": "display_data"
    }
   ],
   "source": [
    "fseen_counts = females.sum()\n",
    "fseen_counts['seen_1':'seen_6'].plot.bar()"
   ]
  },
  {
   "cell_type": "markdown",
   "metadata": {},
   "source": [
    "The number of times each movie was seen again follows a similar pattern across both genders, with the general trend being more pronounced for females."
   ]
  },
  {
   "cell_type": "markdown",
   "metadata": {
    "collapsed": true
   },
   "source": [
    "# Conclusion\n",
    "That's it for now. I might come back to this project another time, but I have other things to learn, first."
   ]
  }
 ],
 "metadata": {
  "kernelspec": {
   "display_name": "Python 3",
   "language": "python",
   "name": "python3"
  },
  "language_info": {
   "codemirror_mode": {
    "name": "ipython",
    "version": 3
   },
   "file_extension": ".py",
   "mimetype": "text/x-python",
   "name": "python",
   "nbconvert_exporter": "python",
   "pygments_lexer": "ipython3",
   "version": "3.6.5"
  }
 },
 "nbformat": 4,
 "nbformat_minor": 1
}
